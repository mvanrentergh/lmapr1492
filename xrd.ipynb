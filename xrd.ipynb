{
 "cells": [
  {
   "cell_type": "markdown",
   "metadata": {},
   "source": [
    " Marine VAN RENTERGHEM (31621700)  \n",
    "# LMAPR1492 Physique des matériaux : Tâche 7\n",
    "Notebook permettant de télécharger le fichier CIF correspondant au materiau mp-9035 et  de déterminer les 3 premiers pics du diffractogramme correspondant (en indiquant les indices hkl associés) pour un rayonnement X incident Cu Kα de longueur d’onde $\\lambda=1.54060 \\overset{\\circ}{A}$"
   ]
  },
  {
   "cell_type": "markdown",
   "metadata": {},
   "source": [
    "## 1.Télécharger le fichier CIF du matériau mp-9035"
   ]
  },
  {
   "cell_type": "code",
   "execution_count": null,
   "metadata": {},
   "outputs": [],
   "source": [
    "#Code permettant de créer le fichier CIF computed de la structure du NaLuS2 (mp-9035) \n",
    "from pymatgen.io.cif import CifWriter\n",
    "from pymatgen.ext.matproj import MPRester\n",
    "with MPRester(\"lTqZwmbprAgWB64c\") as m:\n",
    "\n",
    "    # Structure for material id\n",
    "    structure = m.get_structure_by_material_id(\"mp-9035\")\n",
    "    w = CifWriter(structure)\n",
    "    w.write_file('NaLuS2_computed.cif')"
   ]
  },
  {
   "cell_type": "code",
   "execution_count": null,
   "metadata": {},
   "outputs": [],
   "source": [
    "#Code permettant de créer le fichier CIF symmetrized de la structure du NaLuS2 (mp-9035)\n",
    "from pymatgen.io.cif import CifWriter\n",
    "from pymatgen.ext.matproj import MPRester\n",
    "with MPRester(\"lTqZwmbprAgWB64c\") as m:\n",
    "    # Structure for material id\n",
    "    structure = m.get_structure_by_material_id(\"mp-9035\")\n",
    "    w = CifWriter(structure,symprec=0.1)\n",
    "    w.write_file('NaLuS2_symmetrized.cif')"
   ]
  },
  {
   "cell_type": "markdown",
   "metadata": {},
   "source": [
    "## 2. Diffraction par rayon X Cu K$\\alpha$ du $NaLuS_2$"
   ]
  },
  {
   "cell_type": "code",
   "execution_count": null,
   "metadata": {},
   "outputs": [],
   "source": [
    "from pymatgen.analysis.diffraction.xrd import XRDCalculator\n",
    "from pymatgen.symmetry.analyzer import SpacegroupAnalyzer\n",
    "from pymatgen.analysis.diffraction.core import AbstractDiffractionPatternCalculator\n",
    "import matplotlib.pyplot as plt\n",
    "#structure=SpacegroupAnalyzer(structure).get_conventional_standard_structure()\n",
    "structure=SpacegroupAnalyzer(structure).get_primitive_standard_structure()\n",
    "DifPat=XRDCalculator().get_pattern(structure, scaled=False, two_theta_range=None)\n",
    "Difs=XRDCalculator().get_pattern(structure, scaled=True, two_theta_range=None)"
   ]
  },
  {
   "cell_type": "markdown",
   "metadata": {},
   "source": [
    "Lorsque nous envoyons des rayons X sur un cristal, un phénomène de diffraction apparait. On peut ainsi distinguer des interférences constructives et des interférences destructives. Trouvez-ci dessous le diffractogramme du $NaLuS_2$ pour un rayonnement $Cu\\ K\\alpha$ de longueur d'onde $\\lambda=1.54060 \\overset{\\circ}{A}$. Notons que l'intensité sur le graphe a été mise à l'échelle. En effet, la plus grande intensité a été réduite à 100 et toutes les autres ont subi la même transformation."
   ]
  },
  {
   "cell_type": "code",
   "execution_count": null,
   "metadata": {},
   "outputs": [],
   "source": [
    "c = XRDCalculator()\n",
    "c.plot_structures([structure],two_theta_range=[0,175],annotate_peaks=False, fontsize=25,title=r\"Motif de diffraction pour un rayonnement incident de CuK$\\alpha$ sur le réseau\", size_kwargs=dict(w=15, h=5))\n",
    "plt.show()"
   ]
  },
  {
   "cell_type": "markdown",
   "metadata": {},
   "source": [
    "Chaque pic du difractogramme est un pic d'interférence constructive. Considérons le cristal comme une série de plans (hkl) séparés par une distance $d_{hkl}$. Selon la condition de Bragg, la position de chaque pic est déterminée par la formule suivante : \n",
    "\n",
    "$n \\lambda = 2d_{hkl} \\sin \\theta$ avec $\\theta$ l'angle de réflexion.\n",
    "\n",
    "Analysons donc les 3 premiers pics du diffractogramme dont voici un zoom : \n"
   ]
  },
  {
   "cell_type": "code",
   "execution_count": null,
   "metadata": {},
   "outputs": [],
   "source": [
    "c = XRDCalculator()\n",
    "c.plot_structures([structure],two_theta_range=[5,27],annotate_peaks=True, fontsize=10,title=r\"Motif de diffraction pour un rayonnement incident de CuK$\\alpha$ sur le réseau\", size_kwargs=dict(w=20, h=5))\n",
    "plt.show()"
   ]
  },
  {
   "cell_type": "markdown",
   "metadata": {},
   "source": [
    "### 2.1 Premier pic"
   ]
  },
  {
   "cell_type": "code",
   "execution_count": null,
   "metadata": {},
   "outputs": [],
   "source": [
    "print(\"Indices de Miller (h,k,l) du premier pic : \", DifPat.hkls[0])\n",
    "print(\"Distance interplanaire du premier pic (A) : \",  DifPat.d_hkls[0])\n",
    "print(\"2\\u03B8(\\u00b0) du premier pic :\",DifPat.x[0])\n",
    "print(\"Intensité du premier pic: \", DifPat.y[0])\n",
    "print(\"Intensité du premier pic mise à l'échelle: \",Difs.y[0])\n"
   ]
  },
  {
   "cell_type": "markdown",
   "metadata": {},
   "source": [
    "### 2.2 Deuxième pic"
   ]
  },
  {
   "cell_type": "code",
   "execution_count": null,
   "metadata": {},
   "outputs": [],
   "source": [
    "print(\"Indices de Miller (h,k,l) du deuxième pic : \", DifPat.hkls[1])\n",
    "print(\"Distance interplanaire du deuxième pic (A) : \",  DifPat.d_hkls[1])\n",
    "print(\"2\\u03B8(\\u00b0) du deuxième :\",DifPat.x[1])\n",
    "print(\"Intensité du deuxième pic : \", DifPat.y[1])\n",
    "print(\"Intensité du deuxième pic mise à l'échelle: \",Difs.y[1])\n"
   ]
  },
  {
   "cell_type": "markdown",
   "metadata": {},
   "source": [
    "### 2.3 Troisième pic"
   ]
  },
  {
   "cell_type": "code",
   "execution_count": null,
   "metadata": {},
   "outputs": [],
   "source": [
    "print(\"Indices de Miller du troisième pic : \", DifPat.hkls[2])\n",
    "print(\"Distance interplanaire du troisième pic (A) : \",  DifPat.d_hkls[2])\n",
    "print(\"2\\u03B8(\\u00b0) du troisième pic:\",DifPat.x[2])\n",
    "print(\"Intensité du troisième pic : \", DifPat.y[2])\n",
    "print(\"Intensité du troisième pic mise à l'échelle: \",Difs.y[2])"
   ]
  },
  {
   "cell_type": "markdown",
   "metadata": {},
   "source": [
    "### 2.4 Tableau récapitulatif des valeurs renvoyées par Pymatgen"
   ]
  },
  {
   "cell_type": "markdown",
   "metadata": {},
   "source": [
    "|               | Indices de Miller (hkl)| Multiplicité | $d_{hkl}$ $[\\overset{\\circ}{A}]$ | $2\\theta$ $[$°$]$ |   Intensité   |Intensité [\\%]|\n",
    "|:-------------:|:-----------------:|:------------:|:----------------------------:|:-------------:|:-----:|:-------|\n",
    "| Premier Pic  |      (111)      |       2      |             6.668            |     13.28     | 1177895.568 |98.845|\n",
    "| Deuxième pic |      (222)      |       2      |             3.334            |     26.74     | 159177.984 |13.358|\n",
    "| Troisième pic |      (100)      |       6      |             3.332            |     26.75     | 562558.695 |47.208|\n",
    "\n",
    "<!-- | Quatrième pic |      (1,1,0)      |       6      |             3.202            |     27.87     | 409783.834 |34.388|-->"
   ]
  },
  {
   "cell_type": "markdown",
   "metadata": {},
   "source": [
    "Ces résultats vérifient bien la condition de Bragg."
   ]
  },
  {
   "cell_type": "markdown",
   "metadata": {},
   "source": [
    "### 2.5 Calculs théoriques"
   ]
  },
  {
   "cell_type": "markdown",
   "metadata": {},
   "source": [
    "Le matériau mp-9035 est un réseau trigonal rhomboédrique. Pour ce type de réseau, la distance interplanaire est donnée par la formule suivante : \n",
    "\n",
    "$$d_{hkl}=\\sqrt{\\frac{a^2 (1-3\\cos^2\\alpha+2cos^3\\alpha)}{(h^2+k^2+l^2)\\sin^2\\alpha+2(hk+kl+hl)(cos^2\\alpha-\\cos \\alpha)}}$$\n",
    "\n",
    "On voit donc que l'indice de Miller a un effet sur le dénominateur. Soit la condition de Bragg énoncée précédemment : \n",
    "\n",
    "$$n \\lambda = 2d_{hkl} \\sin \\theta$$\n",
    "\n",
    "Nous cherchons donc les 3 indices de Miller tels que leurs valeurs de theta correspondantes soient les plus petites.On peut remarquer que plus $\\theta$ est petit, plus $d_{hkl}$ est grand et plus le dénominateur de $d_{hkl}$ est petit. Nous cherchons donc les 3 indices de Miller de telle sorte à minimiser: $$(h^2+k^2+l^2)\\sin^2\\alpha+2(hk+kl+hl)(cos^2\\alpha-\\cos \\alpha)$$\n",
    "\n",
    "Par essais multiples, nous remarquons bien que les 3 indices de Miller (hkl) recherchés sont (111),(222),(100)."
   ]
  },
  {
   "cell_type": "code",
   "execution_count": null,
   "metadata": {},
   "outputs": [],
   "source": [
    "import numpy as np\n",
    "import pandas as pd\n",
    "\n",
    "#Fonction calculant la distance interplanaire\n",
    "def distance(alpha,a,h,k,l): \n",
    "    D=(h*h+k*k+l*l)*(np.sin(alpha))**2+2*(h*k+k*l+h*l)*(np.cos(alpha)**2-np.cos(alpha))\n",
    "    N=a*a*(1-3*np.cos(alpha)**2+2*np.cos(alpha)**3)\n",
    "    dist=np.sqrt(N/D)\n",
    "    return dist\n",
    "\n",
    "#Fonction calculant l'angle de réflexion \n",
    "def theta(dist,lam): \n",
    "    th=np.arcsin(lam/(2*dist))*360/(2*np.math.pi)\n",
    "    return 2*th\n",
    "\n",
    "alpha=structure.lattice.alpha*2*np.math.pi/360\n",
    "a=structure.lattice.a\n",
    "lam=1.5406\n",
    "\n",
    "\n",
    "data = [[\"Premier Pic\",\"(111),(-1-1-1)\", distance(alpha,a,1,1,1),theta(distance(alpha,a,1,1,1),lam)], [\"Deuxième Pic\",\"(222),(-2-2-2)\", distance(alpha,a,2,2,2),theta(distance(alpha,a,2,2,2),lam)],[\"Troisième Pic\",\"(100),(010),(001),(-100),(0-10),(00-1)\", distance(alpha,a,1,0,0),theta(distance(alpha,a,1,0,0),lam)]]\n",
    "pd.DataFrame(data, columns=[\"\",\"(hkl)\", \"Distance (A)\",\"2\\u03B8(\\u00b0)\"],index=[1,2,3])"
   ]
  },
  {
   "cell_type": "markdown",
   "metadata": {},
   "source": [
    "Ci-dessus sont représentées les valeurs théoriques obtenues grâces aux formules mentionnées précédemment. Remarquons que celle-ci sont très proches de celles renvoyées par pymatgen.\n",
    "\n",
    "Théoriquement, il est aussi possible de retouver la valeur de l'intensité des pics.\n",
    "Nous savons que $I\\propto |S_K|^2$ et que $S_K$ est le facteur de structure de la maille défini par :  $$S_K=\\sum\\limits^N_jf_j(K)e^{iK\\cdot r_j'}$$\n",
    "avec $f_j$ le facteur de forme atomique et $r_j'$ la position de de l'atome j dans la maille\n",
    "\n",
    "Pour la structure cristalline du $NaLuS_2$, cette formule peut être traduite comme : \n",
    "$$S_K=f_{Na}(K)e^{i\\pi(h+k+l)}+f_{Lu}(K)+f_S\\left(e^{i\\pi\\cdot 1.482(h+k+l)}+e^{i\\pi\\cdot 0.52(h+k+l)}\\right)$$"
   ]
  },
  {
   "cell_type": "markdown",
   "metadata": {},
   "source": [
    " ## 3.Références\n",
    " [1]« Materials Project ». [En ligne]. Disponible sur: https://materialsproject.org/. [Consulté le: 17-mars-2020].\n",
    " \n",
    " [2]« pymatgen.analysis.diffraction.xrd module — pymatgen 2020.3.13 documentation ». [En ligne]. Disponible sur: https://pymatgen.org/pymatgen.analysis.diffraction.xrd.html. [Consulté le: 17-mars-2020].\n",
    " \n",
    " [3] « pymatgen.analysis.diffraction.core module — pymatgen 2020.3.13 documentation ». [En ligne]. Disponible sur: https://pymatgen.org/pymatgen.analysis.diffraction.core.html. [Consulté le: 17-mars-2020].\n",
    "\n"
   ]
  },
  {
   "cell_type": "code",
   "execution_count": null,
   "metadata": {},
   "outputs": [],
   "source": []
  }
 ],
 "metadata": {
  "kernelspec": {
   "display_name": "Python 3",
   "language": "python",
   "name": "python3"
  },
  "language_info": {
   "codemirror_mode": {
    "name": "ipython",
    "version": 3
   },
   "file_extension": ".py",
   "mimetype": "text/x-python",
   "name": "python",
   "nbconvert_exporter": "python",
   "pygments_lexer": "ipython3",
   "version": "3.6.8"
  }
 },
 "nbformat": 4,
 "nbformat_minor": 2
}
