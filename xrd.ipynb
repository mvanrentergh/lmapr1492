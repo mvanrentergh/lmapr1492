{
 "cells": [
  {
   "cell_type": "markdown",
   "metadata": {},
   "source": [
    " Marine VAN RENTERGHEM (31621700)  \n",
    "# LMAPR1492 Physique des matériaux : Tâche 7\n",
    "Notebook permettant de télécharger le fichier CIF correspondant au materiau mp-9035 et  de déterminer les 3 premiers pics du diffractogramme correspondant (en indiquant les indices hkl associés) pour un rayonnement X incident Cu Kα de longueur d’onde λ=1.54060 Å"
   ]
  },
  {
   "cell_type": "markdown",
   "metadata": {},
   "source": [
    "## 1.Télécharger le fichier CIF du matériau mp-9035"
   ]
  },
  {
   "cell_type": "code",
   "execution_count": 1,
   "metadata": {},
   "outputs": [],
   "source": [
    "#Code permettant de créer le fichier CIF computed de la structure du NaLuS2 (mp-9035) \n",
    "from pymatgen.io.cif import CifWriter\n",
    "from pymatgen.ext.matproj import MPRester\n",
    "with MPRester(\"lTqZwmbprAgWB64c\") as m:\n",
    "\n",
    "    # Structure for material id\n",
    "    structure = m.get_structure_by_material_id(\"mp-9035\")\n",
    "    w = CifWriter(structure)\n",
    "    w.write_file('NaLuS2_computed.cif')"
   ]
  },
  {
   "cell_type": "code",
   "execution_count": 2,
   "metadata": {},
   "outputs": [],
   "source": [
    "#Code permettant de créer le fichier CIF symmetrized de la structure du NaLuS2 (mp-9035)\n",
    "from pymatgen.io.cif import CifWriter\n",
    "from pymatgen.ext.matproj import MPRester\n",
    "with MPRester(\"lTqZwmbprAgWB64c\") as m:\n",
    "    # Structure for material id\n",
    "    structure = m.get_structure_by_material_id(\"mp-9035\")\n",
    "    w = CifWriter(structure,symprec=0.1)\n",
    "    w.write_file('NaLuS2_symmetrized.cif')"
   ]
  },
  {
   "cell_type": "markdown",
   "metadata": {},
   "source": [
    "## 2. Diffraction par rayon X Cu K$\\alpha$ du $NaLuS_2$"
   ]
  },
  {
   "cell_type": "code",
   "execution_count": 3,
   "metadata": {},
   "outputs": [],
   "source": [
    "from pymatgen.analysis.diffraction.xrd import XRDCalculator\n",
    "from pymatgen.symmetry.analyzer import SpacegroupAnalyzer\n",
    "from pymatgen.analysis.diffraction.core import AbstractDiffractionPatternCalculator\n",
    "import matplotlib.pyplot as plt\n",
    "structure=SpacegroupAnalyzer(structure).get_primitive_standard_structure()\n",
    "DifPat=XRDCalculator().get_pattern(structure, scaled=True, two_theta_range=None)"
   ]
  },
  {
   "cell_type": "markdown",
   "metadata": {},
   "source": [
    "Lorsque nous envoyons des rayons X sur un cristal, un phénomène de diffraction apparait. On peut ainsi distinguer des interférences constructives et des interférences destructives. Trouvez-ci dessous le diffractogramme du $NaLuS_2$ pour un rayonnement $Cu\\ K\\alpha$ de longueur d'onde $λ=1.54060 Å$."
   ]
  },
  {
   "cell_type": "code",
   "execution_count": 4,
   "metadata": {},
   "outputs": [
    {
     "data": {
      "image/png": "[encoded data removed]",
      "text/plain": [
       "<Figure size 1080x360 with 1 Axes>"
      ]
     },
     "metadata": {
      "needs_background": "light"
     },
     "output_type": "display_data"
    }
   ],
   "source": [
    "c = XRDCalculator()\n",
    "c.plot_structures([structure],two_theta_range=[0,175],annotate_peaks=False, fontsize=25,title=r\"Motif de diffraction pour un rayonnement incident de CuK$\\alpha$ sur le réseau\", size_kwargs=dict(w=15, h=5))\n",
    "plt.show()"
   ]
  },
  {
   "cell_type": "markdown",
   "metadata": {},
   "source": [
    "Chaque pic du difractogramme est un pic d'interférence constructive. Considérons le cristal comme une série de plans séparés par une distance $d_{hkl}$. Selon la loi de Bragg, la position de chaque pic est déterminée par la formule suivante : \n",
    "$\\lambda=2d_{hkl}\\sin\\theta$ avec $\\theta$ l'angle de réflexion. Analysons donc les 3 premiers pics du diffractogramme."
   ]
  },
  {
   "cell_type": "markdown",
   "metadata": {},
   "source": [
    "### 2.1 Premier pic"
   ]
  },
  {
   "cell_type": "code",
   "execution_count": 5,
   "metadata": {},
   "outputs": [
    {
     "name": "stdout",
     "output_type": "stream",
     "text": [
      "Indices de Miller du premier pic :  [{'hkl': (1, 1, 1), 'multiplicity': 2}]\n",
      "Distance interplanaire du premier pic (A) :  6.668155286983993\n",
      "2θ(°) : 13.27787233644682\n",
      "Intensité :  98.84513402979391\n"
     ]
    }
   ],
   "source": [
    "print(\"Indices de Miller du premier pic : \", DifPat.hkls[0])\n",
    "print(\"Distance interplanaire du premier pic (A) : \",  DifPat.d_hkls[0])\n",
    "print(\"2\\u03B8(\\u00b0) :\",DifPat.x[0])\n",
    "print(\"Intensité : \", DifPat.y[0])"
   ]
  },
  {
   "cell_type": "markdown",
   "metadata": {},
   "source": [
    "### 2.2 Deuxième pic"
   ]
  },
  {
   "cell_type": "code",
   "execution_count": 6,
   "metadata": {},
   "outputs": [
    {
     "name": "stdout",
     "output_type": "stream",
     "text": [
      "Indices de Miller du premier pic :  [{'hkl': (1, 0, 0), 'multiplicity': 6}]\n",
      "Distance interplanaire du premier pic (A) :  3.3321501995718577\n",
      "2θ(°) : 26.754086068676795\n",
      "Intensité :  47.208081199777496\n"
     ]
    }
   ],
   "source": [
    "print(\"Indices de Miller du premier pic : \", DifPat.hkls[2])\n",
    "print(\"Distance interplanaire du premier pic (A) : \",  DifPat.d_hkls[2])\n",
    "print(\"2\\u03B8(\\u00b0) :\",DifPat.x[2])\n",
    "print(\"Intensité : \", DifPat.y[2])"
   ]
  },
  {
   "cell_type": "markdown",
   "metadata": {},
   "source": [
    "### 2.3 Troisième pic"
   ]
  },
  {
   "cell_type": "code",
   "execution_count": 7,
   "metadata": {},
   "outputs": [
    {
     "name": "stdout",
     "output_type": "stream",
     "text": [
      "Indices de Miller du premier pic :  [{'hkl': (1, 1, 0), 'multiplicity': 6}]\n",
      "Distance interplanaire du premier pic (A) :  3.2015686922672053\n",
      "2θ(°) : 27.866869370368768\n",
      "Intensité :  34.387715753697435\n"
     ]
    }
   ],
   "source": [
    "print(\"Indices de Miller du premier pic : \", DifPat.hkls[3])\n",
    "print(\"Distance interplanaire du premier pic (A) : \",  DifPat.d_hkls[3])\n",
    "print(\"2\\u03B8(\\u00b0) :\",DifPat.x[3])\n",
    "print(\"Intensité : \", DifPat.y[3])"
   ]
  },
  {
   "cell_type": "markdown",
   "metadata": {},
   "source": [
    "### 2.4 Tableau récapitulatif : "
   ]
  },
  {
   "cell_type": "markdown",
   "metadata": {},
   "source": [
    "|               | Indices de Miller | Multiplicité | Distance $d_{hkl} [\\overset{\\circ}{A}]$ | $2\\theta$ [°] |   I   |\n",
    "|:-------------:|:-----------------:|:------------:|:----------------------------:|:-------------:|:-----:|\n",
    "|  Premier Pic  |      (1,1,1)      |       2      |             6.668            |     13.28     | 98.84 |\n",
    "|  Deuxième pic |      (1,0,0)      |       6      |             3.332            |     26.75     | 47.20 |\n",
    "| Troisième pic |      (1,1,0)      |       6      |             3.202            |     27.87     | 34.38 |"
   ]
  },
  {
   "cell_type": "markdown",
   "metadata": {},
   "source": [
    "Nous pouvons vérifier que ces données vérifient bien la condition de Bragg."
   ]
  },
  {
   "cell_type": "markdown",
   "metadata": {},
   "source": [
    " ## 3.Sources\n",
    " [1]« Materials Project ». [En ligne]. Disponible sur: https://materialsproject.org/. [Consulté le: 17-mars-2020].\n",
    " \n",
    " [2]« pymatgen.analysis.diffraction.xrd module — pymatgen 2020.3.13 documentation ». [En ligne]. Disponible sur: https://pymatgen.org/pymatgen.analysis.diffraction.xrd.html. [Consulté le: 17-mars-2020].\n",
    " \n",
    " [3] « pymatgen.analysis.diffraction.core module — pymatgen 2020.3.13 documentation ». [En ligne]. Disponible sur: https://pymatgen.org/pymatgen.analysis.diffraction.core.html. [Consulté le: 17-mars-2020].\n",
    "\n"
   ]
  },
  {
   "cell_type": "code",
   "execution_count": null,
   "metadata": {},
   "outputs": [],
   "source": []
  }
 ],
 "metadata": {
  "kernelspec": {
   "display_name": "Python 3",
   "language": "python",
   "name": "python3"
  },
  "language_info": {
   "codemirror_mode": {
    "name": "ipython",
    "version": 3
   },
   "file_extension": ".py",
   "mimetype": "text/x-python",
   "name": "python",
   "nbconvert_exporter": "python",
   "pygments_lexer": "ipython3",
   "version": "3.6.8"
  }
 },
 "nbformat": 4,
 "nbformat_minor": 2
}
