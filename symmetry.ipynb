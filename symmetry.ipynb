{
 "cells": [
  {
   "cell_type": "markdown",
   "metadata": {},
   "source": [
    " Marine VAN RENTERGHEM (31621700)  \n",
    "# LMAPR1492 Physique des matériaux : Tâche 6 \n",
    "Notebook permettant de télécharger le fichier CIF correspondant au materiau mp-9035 et d'étudier l’effet de 3 éléments de symétrie différents (pas l’identité) chacun pour 1 atome différent."
   ]
  },
  {
   "cell_type": "markdown",
   "metadata": {},
   "source": [
    "## 1.Télécharger le fichier CIF du matériau mp-9035"
   ]
  },
  {
   "cell_type": "code",
   "execution_count": 1,
   "metadata": {},
   "outputs": [],
   "source": [
    "#Code permettant de créer le fichier CIF computed de la structure du NaLuS2 (mp-9035) \n",
    "from pymatgen.io.cif import CifWriter\n",
    "from pymatgen.ext.matproj import MPRester\n",
    "with MPRester(\"lTqZwmbprAgWB64c\") as m:\n",
    "\n",
    "    # Structure for material id\n",
    "    structure = m.get_structure_by_material_id(\"mp-9035\")\n",
    "    w = CifWriter(structure)\n",
    "    w.write_file('NaLuS2_computed.cif')"
   ]
  },
  {
   "cell_type": "code",
   "execution_count": 2,
   "metadata": {},
   "outputs": [],
   "source": [
    "#Code permettant de créer le fichier CIF symmetrized de la structure du NaLuS2 (mp-9035)\n",
    "from pymatgen.io.cif import CifWriter\n",
    "from pymatgen.ext.matproj import MPRester\n",
    "with MPRester(\"lTqZwmbprAgWB64c\") as m:\n",
    "    # Structure for material id\n",
    "    structure = m.get_structure_by_material_id(\"mp-9035\")\n",
    "    w = CifWriter(structure,symprec=0.1)\n",
    "    w.write_file('NaLuS2_symmetrized.cif')"
   ]
  },
  {
   "cell_type": "markdown",
   "metadata": {},
   "source": [
    "## 2. Symétries"
   ]
  },
  {
   "cell_type": "markdown",
   "metadata": {},
   "source": [
    "La structure cristalline du matériau mp-9035 possède 36 éléments de symétrie différents. Dans ce rapport, nous analyserons une rotation d'ordre 3 (n°5), un plan miroir (n°10) ainsi qu'une translation (n°13). Pour chacune de ces symétries, nous analyserons l'effet de celle-ci sur un atome de la cellule conventionnelle et nous l'illustrerons."
   ]
  },
  {
   "cell_type": "markdown",
   "metadata": {},
   "source": [
    "### 2.1 Axe de rotation d'ordre 3 sur un atome de Sodium"
   ]
  },
  {
   "cell_type": "code",
   "execution_count": 3,
   "metadata": {},
   "outputs": [
    {
     "name": "stdout",
     "output_type": "stream",
     "text": [
      "Matrice de rotation : \n",
      "[[-1.  1.  0.]\n",
      " [-1.  0.  0.]\n",
      " [ 0.  0.  1.]]\n",
      "Position de départ de l'atome de Na : [0.  1.  0.5]\n",
      "Position d'arrivée de l'atome de Na :  [1.  0.  0.5]\n"
     ]
    }
   ],
   "source": [
    "from pymatgen.symmetry.analyzer import SpacegroupAnalyzer,SymmOp\n",
    "import numpy as np\n",
    "structure=SpacegroupAnalyzer(structure).get_symmetrized_structure()\n",
    "C3=SymmOp.from_xyz_string(\"-x+y,-x,z\") #Axe de rotation d'ordre 3 (symétrie numéro 5)\n",
    "pos1Na=np.array([0,1,0.5],dtype=float) #Position de départ de l'atome de Na\n",
    "print(\"Matrice de rotation : \")\n",
    "print(C3.rotation_matrix)\n",
    "print(\"Position de départ de l'atome de Na :\",pos1Na)\n",
    "print(\"Position d'arrivée de l'atome de Na : \", C3.operate(pos1Na))"
   ]
  },
  {
   "cell_type": "markdown",
   "metadata": {},
   "source": [
    "Tout d'abord, considérons la symétrie numéro 5 de la structure cristalline du matériau mp-9035. Il s'agit d'un axe de rotation d'ordre 3. Il s'agit donc d'une rotation de 120°. L'axe de rotation est selon la direction $[001]$ et coïncide donc avec le vecteur de base $\\vec{c}$. \n",
    "La matrice de rotation associée à cette symmétrie est la suivante : \n",
    "\n",
    "\\begin{pmatrix} \n",
    "-1 & 1 & 0 \\\\\n",
    "-1 & 0 & 0 \\\\\n",
    "0 & 0 & 1 \\\\\n",
    "\\end{pmatrix}\n",
    "\n",
    "Tout atome se situant en $(x,y,z)$ est envoyé en $(-x+y,-x,z)$ par cette symétrie. Considérons l'atome de Sodium (Na) positionné en $(0,1,1/2)$ . Par cette rotation d'ordre 3, son image se trouve en $(1,0,1/2)$.\n",
    "\n",
    "\n",
    "\n",
    "$$\n",
    "\\begin{pmatrix}\n",
    "-1 & 1 & 0 \\\\\n",
    "-1 & 0 & 0 \\\\\n",
    "0 & 0 & 1 \\\\\n",
    "\\end{pmatrix}\n",
    "\\begin{pmatrix}\n",
    "0 \\\\ \n",
    "1 \\\\\n",
    "0.5 \\\\\n",
    "\\end{pmatrix}=\n",
    "\\begin{pmatrix}\n",
    "1 \\\\ \n",
    "0 \\\\\n",
    "0.5 \\\\\n",
    "\\end{pmatrix}\n",
    "$$"
   ]
  },
  {
   "cell_type": "markdown",
   "metadata": {},
   "source": [
    "Trouvez ci-dessous la représentation de la symétrie sur cet atome de sodium. L'atome de sodium de gauche opaque a pour image celui plus clair par cette symétrie."
   ]
  },
  {
   "cell_type": "code",
   "execution_count": 4,
   "metadata": {},
   "outputs": [
    {
     "data": {
      "text/html": [
       "<tr>\n",
       "    <td> <img src=\"C3Na.PNG\" width=\"230\"> </td>\n",
       "    <td> <img src=\"C3Na120.PNG\" width=\"230\"> </td>\n",
       "</tr>\n"
      ],
      "text/plain": [
       "<IPython.core.display.HTML object>"
      ]
     },
     "metadata": {},
     "output_type": "display_data"
    }
   ],
   "source": [
    "%%html\n",
    "<tr>\n",
    "    <td> <img src=\"C3Na.PNG\" width=\"230\"> </td>\n",
    "    <td> <img src=\"C3Na120.PNG\" width=\"230\"> </td>\n",
    "</tr>"
   ]
  },
  {
   "cell_type": "markdown",
   "metadata": {},
   "source": [
    "Ces figures ont été générées par le site Jmol Crystal Symmetry Explore [1] à partir du fichier CIF symmetrized téléchargé sur Materials Project [2]."
   ]
  },
  {
   "cell_type": "markdown",
   "metadata": {},
   "source": [
    "### 2.2 Plan miroir sur un atome de Soufre"
   ]
  },
  {
   "cell_type": "code",
   "execution_count": 5,
   "metadata": {},
   "outputs": [
    {
     "name": "stdout",
     "output_type": "stream",
     "text": [
      "Matrice de rotation : \n",
      "[[-1.  1.  0.]\n",
      " [ 0.  1.  0.]\n",
      " [ 0.  0.  1.]]\n",
      "Position de départ de l'atome de S : [1.   1.   0.26]\n",
      "Position d'arrivée de l'atome de S :  [0.   1.   0.26]\n"
     ]
    }
   ],
   "source": [
    "from pymatgen.symmetry.analyzer import SpacegroupAnalyzer,SymmOp\n",
    "import numpy as np\n",
    "structure=SpacegroupAnalyzer(structure).get_symmetrized_structure()\n",
    "M=SymmOp.from_xyz_string(\"-x+y,y,z\") #Plan miroir (symétrie numéro 10)\n",
    "pos1S=np.array([1,1,0.26],dtype=float) #Position de départ de l'atome de Na\n",
    "\n",
    "print(\"Matrice de rotation : \")\n",
    "print(M.rotation_matrix)\n",
    "print(\"Position de départ de l'atome de S :\",pos1S)\n",
    "print(\"Position d'arrivée de l'atome de S : \", M.operate(pos1S))"
   ]
  },
  {
   "cell_type": "markdown",
   "metadata": {},
   "source": [
    "Ensuite, analysons la symétrie numéro 10 du matériau mp-9035. Il s'agit d'un plan miroir perpendiculaire à la direction $[2\\overline{1}0]$. Sa matrice de rotation associée est : \n",
    "\n",
    "$$\n",
    "\\begin{pmatrix} \n",
    "-1 & 1 & 0 \\\\\n",
    "0 & 1 & 0 \\\\\n",
    "0 & 0 & 1 \\\\\n",
    "\\end{pmatrix}\n",
    "$$\n",
    "\n",
    "Tout point situé en $(x,y,z)$ aura comme image $(-x+y,y,z)$ par cette symétrie. Considérons l'effet de cette symétrie sur un atome de Soufre situé en $(1,1,0.26)$. Son image par cette symétrie est en $(0,1,0.26)$.\n",
    "\n",
    "$$\n",
    "\\begin{pmatrix}\n",
    "-1 & 1 & 0 \\\\\n",
    "0 & 1 & 0 \\\\\n",
    "0 & 0 & 1 \\\\\n",
    "\\end{pmatrix}\n",
    "\\begin{pmatrix}\n",
    "1 \\\\ \n",
    "1 \\\\\n",
    "0.26 \\\\\n",
    "\\end{pmatrix}=\n",
    "\\begin{pmatrix}\n",
    "0 \\\\ \n",
    "1 \\\\\n",
    "0.26 \\\\\n",
    "\\end{pmatrix}\n",
    "$$\n",
    "\n",
    "Ci-dessous, est représentée la symétrie dans la cellule conventionnelle de la structure cristalline. Le plan vert est le plan miroir, l'atome jaune opaque est l'atome de Soufre considéré et la flèche turquoise montre son image par cette symétrie."
   ]
  },
  {
   "cell_type": "code",
   "execution_count": 6,
   "metadata": {},
   "outputs": [
    {
     "data": {
      "text/html": [
       "<tr>\n",
       "    <td> <img src=\"MS.PNG\" width=\"350\"> </td>\n",
       "    <td> <img src=\"MS1.PNG\" width=\"200\"> </td>\n",
       "</tr>\n",
       "\n"
      ],
      "text/plain": [
       "<IPython.core.display.HTML object>"
      ]
     },
     "metadata": {},
     "output_type": "display_data"
    }
   ],
   "source": [
    "%%html\n",
    "<tr>\n",
    "    <td> <img src=\"MS.PNG\" width=\"350\"> </td>\n",
    "    <td> <img src=\"MS1.PNG\" width=\"200\"> </td>\n",
    "</tr>\n",
    "\n"
   ]
  },
  {
   "cell_type": "markdown",
   "metadata": {},
   "source": [
    "Ces figures ont été générées par le site Jmol Crystal Symmetry Explore [1] à partir du fichier CIF symmetrized téléchargé sur Materials Project [2]."
   ]
  },
  {
   "cell_type": "markdown",
   "metadata": {},
   "source": [
    "### 2.3 Translation sur un atome de Lutécium"
   ]
  },
  {
   "cell_type": "code",
   "execution_count": 7,
   "metadata": {},
   "outputs": [
    {
     "name": "stdout",
     "output_type": "stream",
     "text": [
      "Matrice de rotation : \n",
      "[[1. 0. 0.]\n",
      " [0. 1. 0.]\n",
      " [0. 0. 1.]]\n",
      "Vecteur de translation\n",
      "[-0.33333333  0.33333333  0.33333333]\n",
      "Position de départ de l'atome de Lu : [1. 0. 0.]\n",
      "Position d'arrivée de l'atome de Lu :  [0.66666667 0.33333333 0.33333333]\n"
     ]
    }
   ],
   "source": [
    "from pymatgen.symmetry.analyzer import SpacegroupAnalyzer,SpacegroupOperations,generate_full_symmops,SymmOp\n",
    "import numpy as np\n",
    "structure=SpacegroupAnalyzer(structure).get_symmetrized_structure()\n",
    "T=SymmOp.from_xyz_string(\"x-1/3,y+1/3,z+1/3\") #Rototranslation (symétrie numéro 13)\n",
    "#Lu en (1,0,1) \n",
    "pos1Lu=np.array([1,0,0],dtype=float) #Position de départ de l'atome de Na\n",
    "\n",
    "print(\"Matrice de rotation : \")\n",
    "print(T.rotation_matrix)\n",
    "print(\"Vecteur de translation\")\n",
    "print(T.translation_vector)\n",
    "\n",
    "print(\"Position de départ de l'atome de Lu :\",pos1Lu)\n",
    "print(\"Position d'arrivée de l'atome de Lu : \", T.operate(pos1Lu))"
   ]
  },
  {
   "cell_type": "markdown",
   "metadata": {},
   "source": [
    "Enfin, analysons la symétrie numéro 13 du matériau mp-9035. Il s'agit d'une translation de vecteur $\\left(\\frac{-1}{3},\\frac{1}{3},\\frac{1}{3}\\right)$. Sa matrice de transformation associée est la matrice identité : \n",
    "\n",
    "$$\n",
    "\\begin{pmatrix} \n",
    "1 & 0 & 0 \\\\\n",
    "0 & 1 & 0 \\\\\n",
    "0 & 0 & 1 \\\\\n",
    "\\end{pmatrix}\n",
    "$$\n",
    "\n",
    "Tout point situé en $(x,y,z)$ aura comme image $\\left(x-\\frac{1}{3}, y+\\frac{1}{3},z+\\frac{1}{3}\\right)$ par cette symétrie. Considérons l'effet de cette translation sur un atome de Lutécium situé en $(1,0,0)$. Son image par cette translation est un atome de Lutécium situé en $\\left(\\frac{2}{3},\\frac{1}{3},\\frac{1}{3}\\right)$.\n",
    "\n",
    "$$\n",
    "\\begin{pmatrix}\n",
    "1 & 0 & 0 \\\\\n",
    "0 & 1 & 0 \\\\\n",
    "0 & 0 & 1 \\\\\n",
    "\\end{pmatrix}\n",
    "\\begin{pmatrix}\n",
    "1 \\\\ \n",
    "0 \\\\\n",
    "0 \\\\\n",
    "\\end{pmatrix} + \n",
    "\\begin{pmatrix}\n",
    "-1/3 \\\\ \n",
    "1/3 \\\\\n",
    "1/3 \\\\\n",
    "\\end{pmatrix}\n",
    "=\n",
    "\\begin{pmatrix}\n",
    "2/3 \\\\ \n",
    "1/3 \\\\\n",
    "1/3 \\\\\n",
    "\\end{pmatrix}\n",
    "$$\n",
    "\n",
    "Ci-dessous, est représentée cette translation dans la cellule conventionnelle de la structure cristalline. La flèche jaune représente la translation entre les deux atomes de Lutécium (atomes verts opaques)"
   ]
  },
  {
   "cell_type": "code",
   "execution_count": 8,
   "metadata": {},
   "outputs": [
    {
     "data": {
      "text/html": [
       "<tr>\n",
       "    <td> <img src=\"TL.PNG\" width=\"120\"> </td>\n",
       "    <td> <img src=\"TLu.PNG\" width=\"120\"> </td>\n",
       "</tr>\n"
      ],
      "text/plain": [
       "<IPython.core.display.HTML object>"
      ]
     },
     "metadata": {},
     "output_type": "display_data"
    }
   ],
   "source": [
    "%%html\n",
    "<tr>\n",
    "    <td> <img src=\"TL.PNG\" width=\"120\"> </td>\n",
    "    <td> <img src=\"TLu.PNG\" width=\"120\"> </td>\n",
    "</tr>"
   ]
  },
  {
   "cell_type": "markdown",
   "metadata": {},
   "source": [
    "Ces figures ont été générées par le site Jmol Crystal Symmetry Explore [1] à partir du fichier CIF symmetrized téléchargé sur Materials Project [2]."
   ]
  },
  {
   "cell_type": "markdown",
   "metadata": {},
   "source": [
    "## 3. Sources\n",
    "[1]« Jmol Crystal Symmetry Explorer ». [En ligne]. Disponible sur: https://www.pslc.ws/jsmol/jcse/explore.htm. [Consulté le: 13-mars-2020].\n",
    "\n",
    "[2]« Materials Project ». [En ligne]. Disponible sur: https://materialsproject.org/. [Consulté le: 19-février-2020].\n",
    "\n",
    "[3] « Pymatgen Core Operations Module ». [En ligne]. Disponible sur: https://pymatgen.org/pymatgen.core.operations.html. [Consulté le: 11-mars-2020]. \n",
    "\n"
   ]
  },
  {
   "cell_type": "code",
   "execution_count": null,
   "metadata": {},
   "outputs": [],
   "source": []
  }
 ],
 "metadata": {
  "kernelspec": {
   "display_name": "Python 3",
   "language": "python",
   "name": "python3"
  },
  "language_info": {
   "codemirror_mode": {
    "name": "ipython",
    "version": 3
   },
   "file_extension": ".py",
   "mimetype": "text/x-python",
   "name": "python",
   "nbconvert_exporter": "python",
   "pygments_lexer": "ipython3",
   "version": "3.6.8"
  }
 },
 "nbformat": 4,
 "nbformat_minor": 2
}
