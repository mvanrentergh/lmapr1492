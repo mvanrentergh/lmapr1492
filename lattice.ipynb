{
 "cells": [
  {
   "cell_type": "markdown",
   "metadata": {},
   "source": [
    " Marine VAN RENTERGHEM (31621700)  \n",
    "# LMAPR1492 Physique des matériaux : Tâche 5\n",
    "Notebook permettant de télécharger le fichier CIF correspondant au materiau mp-9035 et de déterminer son type de maille, son système cristallin, son groupe ponctuel ainsi que les vecteurs de bases de son réseau direct et réciproque."
   ]
  },
  {
   "cell_type": "markdown",
   "metadata": {},
   "source": [
    "## 1.Télécharger le fichier CIF du matériau mp-9035"
   ]
  },
  {
   "cell_type": "code",
   "execution_count": 1,
   "metadata": {},
   "outputs": [],
   "source": [
    "#Code permettant de créer le fichier CIF computed de la structure du NaLuS2 (mp-9035) \n",
    "from pymatgen.io.cif import CifWriter\n",
    "from pymatgen.ext.matproj import MPRester\n",
    "with MPRester(\"lTqZwmbprAgWB64c\") as m:\n",
    "\n",
    "    # Structure for material id\n",
    "    structure = m.get_structure_by_material_id(\"mp-9035\")\n",
    "    w = CifWriter(structure)\n",
    "    w.write_file('NaLuS2_computed.cif')"
   ]
  },
  {
   "cell_type": "code",
   "execution_count": 2,
   "metadata": {},
   "outputs": [],
   "source": [
    "#Code permettant de créer le fichier CIF symmetrized de la structure du NaLuS2 (mp-9035)\n",
    "from pymatgen.io.cif import CifWriter\n",
    "from pymatgen.ext.matproj import MPRester\n",
    "with MPRester(\"lTqZwmbprAgWB64c\") as m:\n",
    "    # Structure for material id\n",
    "    structure = m.get_structure_by_material_id(\"mp-9035\")\n",
    "    w = CifWriter(structure,symprec=0.1)\n",
    "    w.write_file('NaLuS2_symmetrized.cif')"
   ]
  },
  {
   "cell_type": "markdown",
   "metadata": {},
   "source": [
    "## 2. Caractérisation du réseau cristallin"
   ]
  },
  {
   "cell_type": "code",
   "execution_count": 3,
   "metadata": {},
   "outputs": [
    {
     "name": "stdout",
     "output_type": "stream",
     "text": [
      "Système Cristallin :  trigonal\n",
      "Type de maille :  rhombohedral\n",
      "Index du groupe d'espace :  166\n",
      "Groupe spatial :  R-3m\n",
      "Groupe ponctuel :  -3m\n",
      "Longueur caractéristique L [angstrom] :  a :  7.038457735067571\n",
      "a :  7.038457735067571 b :  7.038457735067571 c :  7.038457735067571\n",
      "Angle caractéristique [degrés] :  alpha : 32.18657423045389\n",
      "alpha : 32.18657423045389 beta : 32.18657423045389 gamma : 32.186574230453886\n",
      "-------------------------------------------------------------------------\n"
     ]
    }
   ],
   "source": [
    "from pymatgen.symmetry.analyzer import SpacegroupAnalyzer\n",
    "structure=SpacegroupAnalyzer(structure).get_primitive_standard_structure()\n",
    "print(\"Système Cristallin : \",  SpacegroupAnalyzer(structure).get_crystal_system())\n",
    "print(\"Type de maille : \",SpacegroupAnalyzer(structure).get_lattice_type())\n",
    "print(\"Index du groupe d'espace : \",SpacegroupAnalyzer(structure).get_space_group_number())\n",
    "print(\"Groupe spatial : \", SpacegroupAnalyzer(structure).get_space_group_symbol())\n",
    "print(\"Groupe ponctuel : \",SpacegroupAnalyzer(structure).get_point_group_symbol())\n",
    "print(\"Longueur caractéristique L [angstrom] : \", \"a : \",structure.lattice.a)\n",
    "print(\"a : \",structure.lattice.a, \"b : \",structure.lattice.b,\"c : \",structure.lattice.c)\n",
    "print(\"Angle caractéristique [degrés] : \",\"alpha :\",structure.lattice.alpha)\n",
    "print(\"alpha :\",structure.lattice.alpha,\"beta :\",structure.lattice.beta, \"gamma :\",structure.lattice.gamma)\n",
    "print(\"-------------------------------------------------------------------------\")"
   ]
  },
  {
   "attachments": {},
   "cell_type": "markdown",
   "metadata": {},
   "source": [
    "Le matériau mp-9035 est une structure cristalline du $NaLuS_2$. Son groupe spatial  est $R\\overline{3}m$ (d'index 166) et son groupe ponctuel est $\\overline{3}m$. Le système cristallin de ce matériau est donc le système trigonal et son type de maille est rhomboédrique (R). \n",
    "\n",
    "La signification du groupe ponctuel $\\overline{3}m$ est la suivante : \n",
    "<ul>\n",
    "<li>$\\overline{3}$ représente un axe de roto-inversion d'ordre 3 selon la direction [111]</li>\n",
    "<li>m représente un plan miroir perpendiculaire aux directions $[1\\overline{1}0]$,$[01\\overline{1}]$ et $[\\overline{1}01]$</li>\n",
    "\n",
    "</ul>\n",
    "\n",
    "Ci-dessous sont représentés les mailles conventionnelles et primitives du $NaLuS_2$. Les atomes jaunes clair sont les atomes de Soufre (S), les atomes jaunes plus foncés sont les atomes de Sodium (Na) et les atomes verts sont les atomes de Lutecium (Lu). \n",
    " \n",
    "\n",
    "\n",
    "\n",
    "\n"
   ]
  },
  {
   "cell_type": "markdown",
   "metadata": {},
   "source": [
    "Cellule conventionnelle : "
   ]
  },
  {
   "cell_type": "code",
   "execution_count": 4,
   "metadata": {},
   "outputs": [
    {
     "data": {
      "text/html": [
       "<img src=\"Conv.PNG\" width=\"80\">\n"
      ],
      "text/plain": [
       "<IPython.core.display.HTML object>"
      ]
     },
     "metadata": {},
     "output_type": "display_data"
    }
   ],
   "source": [
    "%%html\n",
    "<img src=\"Conv.PNG\" width=\"80\">"
   ]
  },
  {
   "cell_type": "markdown",
   "metadata": {},
   "source": [
    "Cellule primitive :"
   ]
  },
  {
   "cell_type": "code",
   "execution_count": 5,
   "metadata": {},
   "outputs": [
    {
     "data": {
      "text/html": [
       "<img src=\"prim.PNG\" width=\"160\">\n"
      ],
      "text/plain": [
       "<IPython.core.display.HTML object>"
      ]
     },
     "metadata": {},
     "output_type": "display_data"
    }
   ],
   "source": [
    "%%html\n",
    "<img src=\"prim.PNG\" width=\"160\">"
   ]
  },
  {
   "cell_type": "markdown",
   "metadata": {},
   "source": [
    "Considérons la cellule primitive pour l'étude de ce matériau. Le système trigonal est caractérisé par le fait que a=b=c et que $\\alpha=\\beta=\\gamma$. A partir du fichier CIF, nous trouvons bien que $a=b=c=7.038458 \\overset{\\circ}{A} $ et que $\\alpha=\\beta=\\gamma=32.186574$°. "
   ]
  },
  {
   "cell_type": "markdown",
   "metadata": {},
   "source": [
    "## 3. Vecteurs de base du réseau direct"
   ]
  },
  {
   "cell_type": "code",
   "execution_count": 6,
   "metadata": {},
   "outputs": [
    {
     "name": "stdout",
     "output_type": "stream",
     "text": [
      "Vecteurs de base du réseau direct\n",
      "a :  [3.74923144 0.         5.95677353]\n",
      "b :  [1.71857831 3.3321502  5.95677353]\n",
      "c :  [0.         0.         7.03845774]\n",
      "Volume de la maille du réseau direct :  87.93146851063973\n",
      "---------------------------------------------------------------\n"
     ]
    }
   ],
   "source": [
    "import numpy as np\n",
    "base=structure.lattice.rhombohedral(structure.lattice.a,structure.lattice.alpha).matrix\n",
    "print(\"Vecteurs de base du réseau direct\")\n",
    "print(\"a : \", base[0,:])\n",
    "print(\"b : \", base[1,:])\n",
    "print(\"c : \", base[2,:])\n",
    "vol=np.dot(base[0,:],np.cross(base[1,:],base[2,:]))\n",
    "print(\"Volume de la maille du réseau direct : \", vol)\n",
    "print(\"---------------------------------------------------------------\")"
   ]
  },
  {
   "cell_type": "markdown",
   "metadata": {},
   "source": [
    "Comme le montre le package pymatgen, les vecteurs de base du réseau direct sont : \n",
    "\n",
    "$\\vec{a}=(3.749,0,5.957)$\n",
    "\n",
    "$\\vec{b}=(1.719,3.332,5.957)$\n",
    "\n",
    "$\\vec{c}=(0,0,7.038)$\n",
    "\n",
    "En posant $L=7.038458 \\overset{\\circ}{A}$, on obtient : \n",
    "\n",
    "$\\vec{a}=L(0.533, 0, 0.846)$\n",
    "\n",
    "$\\vec{b}=L(0.244,0.473,0.846)$\n",
    "\n",
    "$\\vec{c}=L(0,0,1)$\n",
    "\n",
    "La norme de chacun de ces vecteurs vaut bien $7.038 \\overset{\\circ}{A}$ tandis que l'angle entre ces vecteurs est bien de $32.187$°. \n",
    "\n",
    "Le volume de cette maille est : $\\Omega=\\vec{a}\\cdot(\\vec{b}\\times \\vec{c})=87,931\\overset{\\circ}{A}^3$\n",
    "\n",
    "\n",
    "\n",
    "\n"
   ]
  },
  {
   "cell_type": "markdown",
   "metadata": {},
   "source": [
    "## 4. Vecteurs de base du réseau réciproque"
   ]
  },
  {
   "cell_type": "code",
   "execution_count": 7,
   "metadata": {},
   "outputs": [
    {
     "name": "stdout",
     "output_type": "stream",
     "text": [
      "Vecteurs de base du réseau réciproque\n",
      "[ 1.67585955 -0.86433555  0.        ]\n",
      "a* :  [ 1.67585955 -0.86433555  0.        ]\n",
      "b* :  [0.         1.88562488 0.        ]\n",
      "c* :  [-1.41831012 -0.86433555  0.89269348]\n",
      "Volume de la maille du réseau réciproque :  2.8209492874827222\n",
      "-----------------------------------------------------------------\n"
     ]
    }
   ],
   "source": [
    "baser=structure.lattice.rhombohedral(structure.lattice.a,structure.lattice.alpha).reciprocal_lattice.matrix\n",
    "print(\"Vecteurs de base du réseau réciproque\")\n",
    "print(2*np.pi/vol*np.cross(base[1,:],base[2,:]))\n",
    "print(\"a* : \", baser[0,:])\n",
    "print(\"b* : \", baser[1,:])\n",
    "print(\"c* : \", baser[2,:])\n",
    "volrec=np.dot(baser[0,:],np.cross(baser[1,:],baser[2,:]))\n",
    "print(\"Volume de la maille du réseau réciproque : \", volrec)\n",
    "print(\"-----------------------------------------------------------------\")"
   ]
  },
  {
   "cell_type": "markdown",
   "metadata": {},
   "source": [
    "\n",
    "Comme le montre le package pymatgen, les vecteurs de base du réseau réciproque sont :\n",
    "\n",
    "$\\vec{a^*}=\\frac{2\\pi}{\\Omega}(\\vec{b}\\times \\vec{c})=(1.676, -0.864,  0)$\n",
    "\n",
    "$\\vec{b^*}=\\frac{2\\pi}{\\Omega}(\\vec{c}\\times \\vec{a})=(0,1.886, 0)$\n",
    "\n",
    "$\\vec{c^*}=\\frac{2\\pi}{\\Omega}(\\vec{a}\\times \\vec{b})=(-1.418,-0.864,0.893)$\n",
    "\n",
    "Le volume de cette maille est  $\\Omega^*=\\vec{a^*}\\cdot (\\vec{b^*}\\times\\vec{c^*})=2,82 \\overset{\\circ}{A}^3$. \n",
    "\n",
    "Et on a bien l'équation $\\Omega^*=\\frac{(2\\pi)^3}{\\Omega}$ qui est vérifiée.\n",
    "\n",
    "\n",
    "\n",
    "\n"
   ]
  }
 ],
 "metadata": {
  "kernelspec": {
   "display_name": "Python 3",
   "language": "python",
   "name": "python3"
  },
  "language_info": {
   "codemirror_mode": {
    "name": "ipython",
    "version": 3
   },
   "file_extension": ".py",
   "mimetype": "text/x-python",
   "name": "python",
   "nbconvert_exporter": "python",
   "pygments_lexer": "ipython3",
   "version": "3.6.8"
  }
 },
 "nbformat": 4,
 "nbformat_minor": 2
}
