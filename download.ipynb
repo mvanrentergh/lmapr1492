{
 "cells": [
  {
   "cell_type": "markdown",
   "metadata": {},
   "source": [
    "<center>  Marine VAN RENTERGHEM (31621700)  </center>"
   ]
  },
  {
   "cell_type": "markdown",
   "metadata": {},
   "source": [
    "<h1><center> LMAPR1492 Physique des matériaux : Tâche 4 </center></h1>"
   ]
  },
  {
   "cell_type": "markdown",
   "metadata": {},
   "source": [
    "Notebook permettant de télécharger 2 types de fichiers CIF correspondant au materiau mp-9035"
   ]
  },
  {
   "cell_type": "code",
   "execution_count": 2,
   "metadata": {},
   "outputs": [],
   "source": [
    "#Code permettant de créer le fichier CIF computed de la structure du NaLuS2 (mp-9035) \n",
    "from pymatgen.io.cif import CifWriter\n",
    "from pymatgen.ext.matproj import MPRester\n",
    "with MPRester(\"lTqZwmbprAgWB64c\") as m:\n",
    "\n",
    "    # Structure for material id\n",
    "    structure = m.get_structure_by_material_id(\"mp-9035\")\n",
    "    w = CifWriter(structure)\n",
    "    w.write_file('NaLuS2_computed.cif')\n",
    "    "
   ]
  },
  {
   "cell_type": "code",
   "execution_count": 1,
   "metadata": {},
   "outputs": [],
   "source": [
    "#Code permettant de créer le fichier CIF symmetrized de la structure du NaLuS2 (mp-9035)\n",
    "from pymatgen.io.cif import CifWriter\n",
    "from pymatgen.ext.matproj import MPRester\n",
    "with MPRester(\"lTqZwmbprAgWB64c\") as m:\n",
    "    # Structure for material id\n",
    "    structure = m.get_structure_by_material_id(\"mp-9035\")\n",
    "    w = CifWriter(structure,symprec=0.1)\n",
    "    w.write_file('NaLuS2_symmetrized.cif')"
   ]
  },
  {
   "cell_type": "code",
   "execution_count": null,
   "metadata": {},
   "outputs": [],
   "source": []
  }
 ],
 "metadata": {
  "kernelspec": {
   "display_name": "Python 3",
   "language": "python",
   "name": "python3"
  },
  "language_info": {
   "codemirror_mode": {
    "name": "ipython",
    "version": 3
   },
   "file_extension": ".py",
   "mimetype": "text/x-python",
   "name": "python",
   "nbconvert_exporter": "python",
   "pygments_lexer": "ipython3",
   "version": "3.6.8"
  }
 },
 "nbformat": 4,
 "nbformat_minor": 2
}
